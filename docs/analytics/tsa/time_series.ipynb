{
 "cells": [
  {
   "cell_type": "markdown",
   "id": "399d55d3-d4ea-4553-b948-ca48066f2198",
   "metadata": {},
   "source": [
    "# 時系列データ"
   ]
  },
  {
   "cell_type": "code",
   "execution_count": null,
   "id": "8f181afa-7c8a-462d-a42f-9d4b8deabdd6",
   "metadata": {},
   "outputs": [],
   "source": []
  }
 ],
 "metadata": {
  "kernelspec": {
   "display_name": "Python 3 (ipykernel)",
   "language": "python",
   "name": "python3"
  },
  "language_info": {
   "codemirror_mode": {
    "name": "ipython",
    "version": 3
   },
   "file_extension": ".py",
   "mimetype": "text/x-python",
   "name": "python",
   "nbconvert_exporter": "python",
   "pygments_lexer": "ipython3",
   "version": "3.9.12"
  }
 },
 "nbformat": 4,
 "nbformat_minor": 5
}
