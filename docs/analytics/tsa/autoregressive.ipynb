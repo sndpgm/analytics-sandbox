{
 "cells": [
  {
   "cell_type": "markdown",
   "id": "10153799-0193-42b8-8ab3-a08e3cde8fcb",
   "metadata": {},
   "source": [
    "# 自己回帰モデル"
   ]
  },
  {
   "cell_type": "code",
   "execution_count": null,
   "id": "73d2b1e6-5336-4cb6-8ce6-8006306582bb",
   "metadata": {},
   "outputs": [],
   "source": []
  }
 ],
 "metadata": {
  "kernelspec": {
   "display_name": "Python 3 (ipykernel)",
   "language": "python",
   "name": "python3"
  },
  "language_info": {
   "codemirror_mode": {
    "name": "ipython",
    "version": 3
   },
   "file_extension": ".py",
   "mimetype": "text/x-python",
   "name": "python",
   "nbconvert_exporter": "python",
   "pygments_lexer": "ipython3",
   "version": "3.9.12"
  }
 },
 "nbformat": 4,
 "nbformat_minor": 5
}
