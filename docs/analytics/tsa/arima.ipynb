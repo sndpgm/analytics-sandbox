{
 "cells": [
  {
   "cell_type": "markdown",
   "id": "d7b400e7-97ec-4fec-bfd8-beb971d679b4",
   "metadata": {},
   "source": [
    "# ARIMAモデル\n",
    "\n"
   ]
  },
  {
   "cell_type": "markdown",
   "id": "b0b4c7dd-4d13-40dc-b934-d1b9123cced6",
   "metadata": {},
   "source": [
    "## 1. ARIMAモデル"
   ]
  },
  {
   "cell_type": "markdown",
   "id": "045782b1-ab17-4621-b347-a20dbd28417b",
   "metadata": {},
   "source": [
    "### 1.1 定義 (${\\rm ARIMA}(p, d, q)$モデル)"
   ]
  },
  {
   "cell_type": "markdown",
   "id": "220be446-1558-44b8-ac82-b05a73c41021",
   "metadata": {},
   "source": [
    "## 2. SARIMAモデル"
   ]
  },
  {
   "cell_type": "markdown",
   "id": "008a91b2-abde-47a5-82f4-31afa59fd566",
   "metadata": {},
   "source": [
    "### 2.1 定義 (${\\rm SARIMA}(p, d, q) \\times (P, D, Q)_s$モデル)\n",
    "\n",
    "<div style=\"padding: 10px; margin-bottom: 10px; border: 1px solid #333333; border-radius: 10px;\">\n",
    "\n",
    "　$t = 1, 2, \\cdots, T $ のとき, AR/MA系の時系列モデリングの一般式は以下のように一般化できる.\n",
    "\n",
    "$$\n",
    "    \\Phi(L) \\nabla^{d} \\nabla_{s}^{D} (y_t - \\beta_t x_t) = A(t) + \\Theta(L)\\zeta_t\n",
    "$$\n",
    "\n",
    "ここで, \n",
    "\n",
    "- $y_t$ : 時点 $t$ での応答変数\n",
    "- $\\beta_t$ : 時点 $t$ での回帰成分\n",
    "- $x_{t}$ : 時点 $t$ での説明変数行列\n",
    "- $A(t)$ : 時点 $t$ でのトレンド項\n",
    "- $\\zeta_t$ : 時点 $t$ での誤差項\n",
    "\n",
    "であり, それ以外の要素は後退オペレーター多項式部分で\n",
    "\n",
    "$$\n",
    "    \\begin{align}\n",
    "        & \\Phi(L) = \\phi_p(L) \\tilde{\\phi}_P(L^s) = \\biggl( 1 - \\sum_{i=1}^{p}{\\phi_i L^{i}} \\biggr) \\biggl( 1 - \\sum_{i=1}^{P}{\\tilde{\\phi}_i L^{si}} \\biggr) \\\\\n",
    "        & \\Theta(L) = \\theta_q(L) \\tilde{\\theta}_Q(L^s) = \\biggl( 1 + \\sum_{i=1}^{q}{\\theta_i L^{i}} \\biggr) \\biggl( 1 + \\sum_{i=1}^{Q}{\\tilde{\\theta}_i L^{si}} \\biggr)\n",
    "    \\end{align}\n",
    "$$\n",
    "\n",
    "で,\n",
    "\n",
    "- $p$ : AR次数\n",
    "- $d$ : 階差の次数\n",
    "- $q$ : MA次数\n",
    "- $m$ : 季節要因の基本周期\n",
    "- $P$ : 季節差分のAR次数\n",
    "- $D$ : 季節差分の階差次数\n",
    "- $Q$ : 季節差分のMA次数\n",
    "- $\\phi_i$ : AR係数\n",
    "- $\\tilde{\\phi}_i$ : 季節差分のAR係数\n",
    "- $\\tilde{\\theta}_i$ : 季節差分のMA係数\n",
    "\n",
    "であり **SARIMAXモデル** (**S**easonal **A**uto**R**egressive **I**ntegrated **M**oving **A**verage with e**X**ogenous variables) という.\n",
    "\n",
    "</div>"
   ]
  }
 ],
 "metadata": {
  "kernelspec": {
   "display_name": "Python 3 (ipykernel)",
   "language": "python",
   "name": "python3"
  },
  "language_info": {
   "codemirror_mode": {
    "name": "ipython",
    "version": 3
   },
   "file_extension": ".py",
   "mimetype": "text/x-python",
   "name": "python",
   "nbconvert_exporter": "python",
   "pygments_lexer": "ipython3",
   "version": "3.9.12"
  }
 },
 "nbformat": 4,
 "nbformat_minor": 5
}
