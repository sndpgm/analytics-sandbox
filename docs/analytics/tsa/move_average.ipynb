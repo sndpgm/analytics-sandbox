{
 "cells": [
  {
   "cell_type": "markdown",
   "id": "af098280-2acf-464d-bf44-cd72695d2364",
   "metadata": {},
   "source": [
    "# 移動平均モデル"
   ]
  }
 ],
 "metadata": {
  "kernelspec": {
   "display_name": "Python 3 (ipykernel)",
   "language": "python",
   "name": "python3"
  },
  "language_info": {
   "codemirror_mode": {
    "name": "ipython",
    "version": 3
   },
   "file_extension": ".py",
   "mimetype": "text/x-python",
   "name": "python",
   "nbconvert_exporter": "python",
   "pygments_lexer": "ipython3",
   "version": "3.9.12"
  }
 },
 "nbformat": 4,
 "nbformat_minor": 5
}
