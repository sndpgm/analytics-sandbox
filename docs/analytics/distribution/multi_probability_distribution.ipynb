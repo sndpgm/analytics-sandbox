{
 "cells": [
  {
   "cell_type": "markdown",
   "id": "ade1a90a-9e5a-4f79-b794-10c9ebf1fcbe",
   "metadata": {},
   "source": [
    "# 多変量確率分布"
   ]
  },
  {
   "cell_type": "markdown",
   "id": "380e79b5-6da9-467e-b292-e7881a31559d",
   "metadata": {},
   "source": [
    "## 1. 多変量確率ベクトルと同時分布関数"
   ]
  },
  {
   "cell_type": "markdown",
   "id": "e7d991d0-5448-4f35-b9c9-36dc3a8bb616",
   "metadata": {},
   "source": [
    "### 定義 1.1 (離散型の同時分布)\n",
    "\n",
    "<div style=\"padding: 10px; margin-bottom: 10px; border: 1px solid #333333; border-radius: 10px;\">\n",
    "\n",
    "　$n$ 個の離散型の確率変数 $X_1, \\cdots, X_n$ について\n",
    "\n",
    "$$\n",
    "    {\\rm P}(X_1 = x_1, \\dots, X_n = x_n) = f(x_1, \\dots, x_n)\n",
    "$$\n",
    "\n",
    "を **同時確率関数** (joint probability mass function) という. このとき関数 $f$ は\n",
    "\n",
    "(multi-discrete-distribution)=\n",
    "$$\n",
    "    \\begin{align}\n",
    "        & f(x_1, \\dots, x_n) \\geq 0 \\\\\n",
    "        & \\sum_{ i }{ \\sum_{ j }{ \\cdots \\sum_{ k }{ f(x_{1i}, x_{2j}, \\dots, x_{nk}) } } } = 1\n",
    "    \\end{align}\n",
    "$$\n",
    "\n",
    "を満たす.\n",
    "\n",
    "</div>"
   ]
  },
  {
   "cell_type": "markdown",
   "id": "364e7119-8ba8-4a99-b499-d5d94d24a34e",
   "metadata": {},
   "source": [
    "### 例 1.2 (2つのサイコロの目)\n",
    "\n",
    "　2 つのサイコロの目 $P, Q$ の大きい方, 小さい方をそれぞれ $X_1 = \\max{(P, Q)}$, $X_2 = \\min{(P, Q)}$ とする. ただし $x \\geq y$ のとき $\\max{(x, y)} = x$, $\\min{(x, y)} = y$ である. このとき $X_1 = x_1$ かつ $X_2 = x_2$ となる確率 $f(x_1, x_2)$ とする. このとき以下の確率表となる.\n",
    "\n",
    "|       | $X_1$ | $1$    | $2$    | $3$    | $4$    | $5$    | $6$    |\n",
    "| :---: | ----- | ------ | ------ | ------ | ------ | ------ | ------ |\n",
    "| $X_2$ |       |        |        |        |        |        |        |\n",
    "| $1$   |       | $1/36$ | $2/36$ | $2/36$ | $2/36$ | $2/36$ | $2/36$ |\n",
    "| $2$   |       |        | $1/36$ | $2/36$ | $2/36$ | $2/36$ | $2/36$ |\n",
    "| $3$   |       |        |        | $1/36$ | $2/36$ | $2/36$ | $2/36$ |\n",
    "| $4$   |       |        |        |        | $1/36$ | $2/36$ | $2/36$ |\n",
    "| $5$   |       |        |        |        |        | $1/36$ | $2/36$ |\n",
    "| $6$   |       |        |        |        |        |        | $1/36$ |\n",
    "\n",
    "よって $f(x_1, x_2) \\geq 0$ であり,\n",
    "\n",
    "$$\n",
    "    \\sum_{x_1=1}^{6}{ \\sum_{x_2=1}^{6}{f(x_1, x_2)} } = 1.\n",
    "$$"
   ]
  },
  {
   "cell_type": "markdown",
   "id": "784776dd-bddf-418b-a8c4-1a41d3a8b13e",
   "metadata": {},
   "source": [
    "### 定義 1.3 (連続型の同時分布)\n",
    "\n",
    "<div style=\"padding: 10px; margin-bottom: 10px; border: 1px solid #333333; border-radius: 10px;\">\n",
    "\n",
    "　$n$ 個の連続型の確率変数 $X=(X_1 \\cdots X_n)'$ について $X \\in \\mathbb{X}$ となる確率が以下で定義されるとする.\n",
    "\n",
    "$$\n",
    "    {\\rm P}(X \\in \\mathbb{X}) = \\int_{\\mathbb{X}}{f(x_1, \\dots, x_n)dx_1 \\dots dx_n}\n",
    "$$\n",
    "\n",
    "このとき $f$ は **同時密度関数** (joint probability density function) といい\n",
    "\n",
    "(multi-continuous-distribution)=\n",
    "$$\n",
    "    \\begin{align}\n",
    "        & f(x_1, \\dots, x_n) \\geq 0 \\\\\n",
    "        & \\int_{x_1}{ \\cdots \\int_{x_n}{ f(x_1, \\dots, x_n)dx_n \\dots dx_1 } } = 1 \n",
    "    \\end{align}\n",
    "$$\n",
    "\n",
    "である.\n",
    "\n",
    "</div>"
   ]
  },
  {
   "cell_type": "markdown",
   "id": "abb1a9a0-56e4-40b6-8b25-e7409a3fbdb5",
   "metadata": {},
   "source": [
    "### 例 1.4 (線形和によって表現される同時密度関数)\n",
    "\n",
    "　以下の同時密度関数が与えられたとする.\n",
    "\n",
    "$$\n",
    "    \\begin{align}\n",
    "        f(x, y) = \\begin{cases}\n",
    "            x + y &(0 \\leq x, y \\leq 1) \\\\\n",
    "            0     &(\\text{otherwise})\n",
    "        \\end{cases}\n",
    "    \\end{align}\n",
    "$$\n",
    "\n",
    "$0 \\leq x \\leq \\dfrac{1}{2}$, $0 \\leq y \\leq \\dfrac{1}{4}$ となる確率は\n",
    "\n",
    "$$\n",
    "    \\begin{align}\n",
    "        P \\biggl(0 \\leq x \\leq \\frac{1}{2}, 0 \\leq y \\leq \\frac{1}{4} \\biggr)\n",
    "            &= \\int_{0}^{1/4}{ \\int_{0}^{1/2}{(x + y)dx}dy } \\\\\n",
    "            &= \\int_{0}^{1/4}{ \\biggl[ \\frac{1}{2}x^2 + xy \\biggr]_{0}^{1/2} dy } \\\\\n",
    "            &= \\int_{0}^{1/4}{ \\biggl( \\frac{1}{8} + \\frac{1}{2}y \\biggr) dy } \\\\\n",
    "            &= \\biggl[ \\frac{1}{8}y + \\frac{1}{4}y^2 \\biggr]_{0}^{1/4} \\\\\n",
    "            &= \\frac{3}{64}\n",
    "    \\end{align}\n",
    "$$\n",
    "\n",
    "となる.  \n",
    "　もちろん $f(x, y) \\geq 0$ で\n",
    "\n",
    "$$\n",
    "    \\begin{align}\n",
    "        \\int_{0}^{1}{ \\int_{0}^{1}{(x + y)dx}dy }\n",
    "            &= \\int_{0}^{1}{ \\biggl[ \\frac{1}{2}x^2 + xy \\biggr]_{0}^{1} dy } \\\\\n",
    "            &= \\int_{0}^{1}{ \\biggl( \\frac{1}{2} + y \\biggr) dy } \\\\\n",
    "            &= \\biggl[ \\frac{1}{2}y + \\frac{1}{2}y^2 \\biggr]_{0}^{1} \\\\\n",
    "            &= 1.\n",
    "    \\end{align}\n",
    "$$"
   ]
  },
  {
   "cell_type": "markdown",
   "id": "9fe2b13e-504f-474d-92ca-c23ecfe2f69b",
   "metadata": {},
   "source": [
    "## 2. 周辺分布と条件付確率"
   ]
  },
  {
   "cell_type": "markdown",
   "id": "6d83d263-4ea5-4940-982d-cc1a37f57923",
   "metadata": {},
   "source": [
    "## 3. 多次元確率分布"
   ]
  }
 ],
 "metadata": {
  "kernelspec": {
   "display_name": "Python 3 (ipykernel)",
   "language": "python",
   "name": "python3"
  },
  "language_info": {
   "codemirror_mode": {
    "name": "ipython",
    "version": 3
   },
   "file_extension": ".py",
   "mimetype": "text/x-python",
   "name": "python",
   "nbconvert_exporter": "python",
   "pygments_lexer": "ipython3",
   "version": "3.9.12"
  }
 },
 "nbformat": 4,
 "nbformat_minor": 5
}
