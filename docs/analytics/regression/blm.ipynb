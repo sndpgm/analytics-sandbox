{
 "cells": [
  {
   "cell_type": "markdown",
   "id": "19bbc9f1-609c-40a2-af09-e3834c971386",
   "metadata": {},
   "source": [
    "# ベイズ線形回帰モデル"
   ]
  },
  {
   "cell_type": "markdown",
   "id": "5c0ebd7b-5657-4fe8-bd5f-0d116b8d5bfc",
   "metadata": {},
   "source": []
  }
 ],
 "metadata": {
  "kernelspec": {
   "display_name": "Python 3 (ipykernel)",
   "language": "python",
   "name": "python3"
  },
  "language_info": {
   "codemirror_mode": {
    "name": "ipython",
    "version": 3
   },
   "file_extension": ".py",
   "mimetype": "text/x-python",
   "name": "python",
   "nbconvert_exporter": "python",
   "pygments_lexer": "ipython3",
   "version": "3.9.12"
  }
 },
 "nbformat": 4,
 "nbformat_minor": 5
}
