{
 "cells": [
  {
   "cell_type": "markdown",
   "id": "e293f030-7a39-4b8b-9662-89f3464c0f1d",
   "metadata": {},
   "source": [
    "# 状態空間モデル"
   ]
  },
  {
   "cell_type": "markdown",
   "id": "f73e76ae-54bb-4cca-a83d-0a53c2a406da",
   "metadata": {},
   "source": []
  }
 ],
 "metadata": {
  "kernelspec": {
   "display_name": "Python 3 (ipykernel)",
   "language": "python",
   "name": "python3"
  },
  "language_info": {
   "codemirror_mode": {
    "name": "ipython",
    "version": 3
   },
   "file_extension": ".py",
   "mimetype": "text/x-python",
   "name": "python",
   "nbconvert_exporter": "python",
   "pygments_lexer": "ipython3",
   "version": "3.9.12"
  }
 },
 "nbformat": 4,
 "nbformat_minor": 5
}
