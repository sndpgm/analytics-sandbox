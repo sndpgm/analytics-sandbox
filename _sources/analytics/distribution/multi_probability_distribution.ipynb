{
 "cells": [
  {
   "cell_type": "markdown",
   "id": "ade1a90a-9e5a-4f79-b794-10c9ebf1fcbe",
   "metadata": {},
   "source": [
    "# 多次元確率分布"
   ]
  },
  {
   "cell_type": "markdown",
   "id": "380e79b5-6da9-467e-b292-e7881a31559d",
   "metadata": {},
   "source": [
    "## 1. 期待値と分散"
   ]
  },
  {
   "cell_type": "markdown",
   "id": "9fe2b13e-504f-474d-92ca-c23ecfe2f69b",
   "metadata": {},
   "source": [
    "## 2. 周辺分布と条件付確率"
   ]
  },
  {
   "cell_type": "markdown",
   "id": "6d83d263-4ea5-4940-982d-cc1a37f57923",
   "metadata": {},
   "source": [
    "## 3. 多次元確率分布"
   ]
  }
 ],
 "metadata": {
  "kernelspec": {
   "display_name": "Python 3 (ipykernel)",
   "language": "python",
   "name": "python3"
  },
  "language_info": {
   "codemirror_mode": {
    "name": "ipython",
    "version": 3
   },
   "file_extension": ".py",
   "mimetype": "text/x-python",
   "name": "python",
   "nbconvert_exporter": "python",
   "pygments_lexer": "ipython3",
   "version": "3.9.12"
  }
 },
 "nbformat": 4,
 "nbformat_minor": 5
}
