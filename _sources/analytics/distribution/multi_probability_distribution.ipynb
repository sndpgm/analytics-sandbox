{
 "cells": [
  {
   "cell_type": "markdown",
   "id": "ade1a90a-9e5a-4f79-b794-10c9ebf1fcbe",
   "metadata": {},
   "source": [
    "# 多変量確率分布"
   ]
  },
  {
   "cell_type": "markdown",
   "id": "380e79b5-6da9-467e-b292-e7881a31559d",
   "metadata": {},
   "source": [
    "## 1. 多変量確率ベクトルと同時分布関数"
   ]
  },
  {
   "cell_type": "markdown",
   "id": "e7d991d0-5448-4f35-b9c9-36dc3a8bb616",
   "metadata": {},
   "source": [
    "### 定義 1.1 (離散型の同時分布)\n",
    "\n",
    "<div style=\"padding: 10px; margin-bottom: 10px; border: 1px solid #333333; border-radius: 10px;\">\n",
    "\n",
    "　$n$ 個の離散型の確率変数 $X_1, \\cdots, X_n$ について\n",
    "\n",
    "$$\n",
    "    {\\rm P}(X_1 = x_1, \\dots, X_n = x_n) = f(x_1, \\dots, x_n)\n",
    "$$\n",
    "\n",
    "を **同時確率関数** (joint probability mass function) という. このとき関数 $f$ は\n",
    "\n",
    "(multi-discrete-distribution)=\n",
    "$$\n",
    "    \\begin{align}\n",
    "        & f(x_1, \\dots, x_n) \\geq 0 \\\\\n",
    "        & \\sum_{ i }{ \\sum_{ j }{ \\cdots \\sum_{ k }{ f(x_{1i}, x_{2j}, \\dots, x_{nk}) } } } = 1\n",
    "    \\end{align}\n",
    "$$\n",
    "\n",
    "を満たす.\n",
    "\n",
    "</div>"
   ]
  },
  {
   "cell_type": "markdown",
   "id": "364e7119-8ba8-4a99-b499-d5d94d24a34e",
   "metadata": {},
   "source": [
    "### 例 1.2 (2つのサイコロの目)\n",
    "\n",
    "　2 つのサイコロの目 $P, Q$ の大きい方, 小さい方をそれぞれ $X_1 = \\max{(P, Q)}$, $X_2 = \\min{(P, Q)}$ とする. ただし $x \\geq y$ のとき $\\max{(x, y)} = x$, $\\min{(x, y)} = y$ である. このとき $X_1 = x_1$ かつ $X_2 = x_2$ となる確率 $f(x_1, x_2)$ とする. このとき以下の確率表となる.\n",
    "\n",
    "|       | $X_1$ | $1$    | $2$    | $3$    | $4$    | $5$    | $6$    |\n",
    "| :---: | ----- | ------ | ------ | ------ | ------ | ------ | ------ |\n",
    "| $X_2$ |       |        |        |        |        |        |        |\n",
    "| $1$   |       | $1/36$ | $2/36$ | $2/36$ | $2/36$ | $2/36$ | $2/36$ |\n",
    "| $2$   |       |        | $1/36$ | $2/36$ | $2/36$ | $2/36$ | $2/36$ |\n",
    "| $3$   |       |        |        | $1/36$ | $2/36$ | $2/36$ | $2/36$ |\n",
    "| $4$   |       |        |        |        | $1/36$ | $2/36$ | $2/36$ |\n",
    "| $5$   |       |        |        |        |        | $1/36$ | $2/36$ |\n",
    "| $6$   |       |        |        |        |        |        | $1/36$ |\n",
    "\n",
    "よって $f(x_1, x_2) \\geq 0$ であり,\n",
    "\n",
    "$$\n",
    "    \\sum_{x_1=1}^{6}{ \\sum_{x_2=1}^{6}{f(x_1, x_2)} } = 1.\n",
    "$$"
   ]
  },
  {
   "cell_type": "markdown",
   "id": "784776dd-bddf-418b-a8c4-1a41d3a8b13e",
   "metadata": {},
   "source": [
    "### 定義 1.3 (連続型の同時分布)\n",
    "\n",
    "<div style=\"padding: 10px; margin-bottom: 10px; border: 1px solid #333333; border-radius: 10px;\">\n",
    "\n",
    "　$n$ 個の連続型の確率変数 $X=[X_1 \\cdots X_n]'$ について $X \\in \\mathbb{X}$ となる確率が以下で定義されるとする.\n",
    "\n",
    "$$\n",
    "    {\\rm P}(X \\in \\mathbb{X}) = \\int_{\\mathbb{X}}{f(x_1, \\dots, x_n)dx_1 \\dots dx_n}\n",
    "$$\n",
    "\n",
    "このとき $f$ は **同時密度関数** (joint probability density function) といい\n",
    "\n",
    "(multi-continuous-distribution)=\n",
    "$$\n",
    "    \\begin{align}\n",
    "        & f(x_1, \\dots, x_n) \\geq 0 \\\\\n",
    "        & \\int_{x_1}{ \\cdots \\int_{x_n}{ f(x_1, \\dots, x_n)dx_n \\dots dx_1 } } = 1 \n",
    "    \\end{align}\n",
    "$$\n",
    "\n",
    "である.\n",
    "\n",
    "</div>"
   ]
  },
  {
   "cell_type": "markdown",
   "id": "abb1a9a0-56e4-40b6-8b25-e7409a3fbdb5",
   "metadata": {},
   "source": [
    "### 例 1.4 (線形和によって表現される同時密度関数)\n",
    "\n",
    "　以下の同時密度関数が与えられたとする.\n",
    "\n",
    "$$\n",
    "    \\begin{align}\n",
    "        f(x, y) = \\begin{cases}\n",
    "            x + y &(0 \\leq x, y \\leq 1) \\\\\n",
    "            0     &(\\text{otherwise})\n",
    "        \\end{cases}\n",
    "    \\end{align}\n",
    "$$\n",
    "\n",
    "$0 \\leq x \\leq \\dfrac{1}{2}$, $0 \\leq y \\leq \\dfrac{1}{4}$ となる確率は\n",
    "\n",
    "$$\n",
    "    \\begin{align}\n",
    "        P \\biggl(0 \\leq x \\leq \\frac{1}{2}, 0 \\leq y \\leq \\frac{1}{4} \\biggr)\n",
    "            &= \\int_{0}^{1/4}{ \\int_{0}^{1/2}{(x + y)dx}dy } \\\\\n",
    "            &= \\int_{0}^{1/4}{ \\biggl[ \\frac{1}{2}x^2 + xy \\biggr]_{0}^{1/2} dy } \\\\\n",
    "            &= \\int_{0}^{1/4}{ \\biggl( \\frac{1}{8} + \\frac{1}{2}y \\biggr) dy } \\\\\n",
    "            &= \\biggl[ \\frac{1}{8}y + \\frac{1}{4}y^2 \\biggr]_{0}^{1/4} \\\\\n",
    "            &= \\frac{3}{64}\n",
    "    \\end{align}\n",
    "$$\n",
    "\n",
    "となる.  \n",
    "　もちろん $f(x, y) \\geq 0$ で\n",
    "\n",
    "$$\n",
    "    \\begin{align}\n",
    "        \\int_{0}^{1}{ \\int_{0}^{1}{(x + y)dx}dy }\n",
    "            &= \\int_{0}^{1}{ \\biggl[ \\frac{1}{2}x^2 + xy \\biggr]_{0}^{1} dy } \\\\\n",
    "            &= \\int_{0}^{1}{ \\biggl( \\frac{1}{2} + y \\biggr) dy } \\\\\n",
    "            &= \\biggl[ \\frac{1}{2}y + \\frac{1}{2}y^2 \\biggr]_{0}^{1} \\\\\n",
    "            &= 1.\n",
    "    \\end{align}\n",
    "$$"
   ]
  },
  {
   "cell_type": "markdown",
   "id": "bfc14219-9e88-4a87-a90b-15919c0e6b02",
   "metadata": {},
   "source": [
    "## 2. 期待値と分散\n",
    "\n",
    "　以下では明示的に行列やベクトル作用の場合の期待値, 分散, 共分散を示すときはそれぞれ $\\mathbb{E}, \\mathbb{Var}, \\mathbb{Cov}$, スカラーに作用する場合には ${\\rm E}, {\\rm Var}, {\\rm Cov}$ とする."
   ]
  },
  {
   "cell_type": "markdown",
   "id": "2936450d-808a-429b-b620-4a60a548b5a3",
   "metadata": {},
   "source": [
    "### 定義 2.1 (期待値)\n",
    "\n",
    "<div style=\"padding: 10px; margin-bottom: 10px; border: 1px solid #333333; border-radius: 10px;\">\n",
    "\n",
    "(multi-expectation)=\n",
    "　$n$ 個の確率変数 $X=[X_1 \\cdots X_n]'$ について以下で期待値が定義できる.\n",
    "\n",
    "$$\n",
    "    \\mathbb{E}(X) = \\begin{bmatrix}\n",
    "            {\\rm E}(X_1) \\\\\n",
    "            \\vdots       \\\\\n",
    "            {\\rm E}(X_n) \n",
    "    \\end{bmatrix}\n",
    "$$\n",
    "\n",
    "**平均ベクトル** (mean vector) といい, 各成分の期待値スカラー ${\\rm E}(X_i)$ は[1変量の期待値の定義](expectation)の通り.  \n",
    "　また一般に $p \\times q$ 行列値関数 $\\phi$ を用いて $\\phi(X)$ についても同様に期待値は定義できる.\n",
    "\n",
    "$$\n",
    "    \\mathbb{E}(\\phi(X)) = \\begin{bmatrix}\n",
    "            \\mathbb{E}(\\phi_{11}(X)) & \\cdots & \\mathbb{E}(\\phi_{1q}(X)) \\\\\n",
    "            \\vdots                & \\ddots & \\vdots                \\\\\n",
    "            \\mathbb{E}(\\phi_{p1}(X)) & \\cdots & \\mathbb{E}(\\phi_{pq}(X))\n",
    "    \\end{bmatrix}\n",
    "$$\n",
    "\n",
    "上記から分かる通り $np \\times q$ 行列となる."
   ]
  },
  {
   "cell_type": "markdown",
   "id": "6541443b-cdce-4c54-925e-36d97b9a96a6",
   "metadata": {},
   "source": [
    "### 命題 2.2 (期待値の性質)\n",
    "\n",
    "<div style=\"padding: 10px; margin-bottom: 10px; border: 1px solid #333333; border-radius: 10px;\">\n",
    "\n",
    "　$X, X_1, X_2$ をそれぞれ $n$ 次元確率ベクトル, $A$ は $p \\times n$ 行列, $a$ は $n$ 次元定数ベクトルとすると以下が成立する.\n",
    "\n",
    "(multi-expectation-property)=\n",
    "$$\n",
    "    \\begin{align}\n",
    "        & \\mathbb{E}(A) = A \\\\\n",
    "        & \\mathbb{E}(X + a) = \\mathbb{E}(X) + a \\\\\n",
    "        & \\mathbb{E}(AX) = A\\mathbb{E}(X)  \\\\\n",
    "        & \\mathbb{E}(X_1 + X_2) = \\mathbb{E}(X_1) + \\mathbb{E}(X_2)\n",
    "    \\end{align}\n",
    "$$\n",
    "\n",
    "</div>"
   ]
  },
  {
   "cell_type": "markdown",
   "id": "41fd4f54-04e8-4a57-956e-78687a558676",
   "metadata": {},
   "source": [
    "### 定義 2.3 (分散共分散)\n",
    "\n",
    "<div style=\"padding: 10px; margin-bottom: 10px; border: 1px solid #333333; border-radius: 10px;\">\n",
    "\n",
    "(multi-variance)=\n",
    "\n",
    "　$n$ 次元確率ベクトル $X=[X_1 \\cdots X_n]'$ と $m$ 次元確率ベクトル $Y=[Y_1 \\cdots Y_m]'$ の 2 つの確率ベクトルに対して, $X$ と $Y$ の **共分散行列** (covariance matrix) を以下のように定義する.\n",
    "\n",
    "$$\n",
    "    \\mathbb{Cov}(X, Y) = \\mathbb{E}[ (X - \\mathbb{E}[X])'(Y - \\mathbb{E}[Y]) ]\n",
    "$$\n",
    "\n",
    "特に, $\\mathbb{Var}(X) = \\mathbb{Cov}(X, X)$ を $X$ の **分散共分散行列** (variance-covariance matrix) と呼ぶ. つまり,\n",
    "\n",
    "$$\n",
    "    \\mathbb{Var}(X) = \\mathbb{E}[ (X - \\mathbb{E}[X])'(X - \\mathbb{E}[X]) ] = \\begin{bmatrix}\n",
    "            {\\rm Cov}(X_1, X_1) & {\\rm Cov}{X_1, X_2} & \\cdots & {\\rm Cov}(X_1, X_n) \\\\\n",
    "            {\\rm Cov}(X_2, X_1) & {\\rm Cov}{X_2, X_2} & \\cdots & {\\rm Cov}(X_2, X_n) \\\\\n",
    "            \\vdots              & \\vdots              & \\ddots & \\vdots              \\\\\n",
    "            {\\rm Cov}(X_n, X_1) & {\\rm Cov}{X_n, X_2} & \\cdots & {\\rm Cov}(X_n, X_n)\n",
    "    \\end{bmatrix} = \\Sigma\n",
    "$$\n"
   ]
  },
  {
   "cell_type": "markdown",
   "id": "c5d890a8-88ab-4743-a2a4-eb4fe6aad7b0",
   "metadata": {},
   "source": [
    "### 命題 2.4 (共分散行列の性質)\n",
    "\n",
    "<div style=\"padding: 10px; margin-bottom: 10px; border: 1px solid #333333; border-radius: 10px;\">\n",
    "\n",
    "　$X, X_1, X_2$ をそれぞれ $n$ 次元確率ベクトル, $Y, Y_1, Y_2$ をそれぞれ $m$ 次元確率ベクトル, $A$ は $p \\times n$ 行列, $B$ は $q \\times m$ 行列, $a$ を $n$ 次元定数ベクトル, $b$ を $m$ 次元定数ベクトルとすると以下が成立する.\n",
    "\n",
    "(multi-variance-property)=\n",
    "$$\n",
    "    \\begin{align}\n",
    "        & \\mathbb{Cov}(X + a, Y + b) = \\mathbb{Cov}(X, Y)                          \\\\\n",
    "        & \\mathbb{Cov}(AX, BY)       = A \\mathbb{Cov}(X, Y) B'                     \\\\\n",
    "        & \\mathbb{Cov}(X_1 + X_2, Y) = \\mathbb{Cov}(X_1, Y) + \\mathbb{Cov}(X_2, Y) \\\\\n",
    "        & \\mathbb{Cov}(X, Y_1 + Y_2) = \\mathbb{Cov}(X, Y_1) + \\mathbb{Cov}(X, Y_2) \\\\\n",
    "        & \\mathbb{Var}(X + a)        = \\mathbb{Var}(X)                             \\\\\n",
    "        & \\mathbb{Var}(AX)           = A \\mathbb{Var}(X) A'\n",
    "    \\end{align}\n",
    "$$\n",
    "\n",
    "</div>"
   ]
  },
  {
   "cell_type": "markdown",
   "id": "9fe2b13e-504f-474d-92ca-c23ecfe2f69b",
   "metadata": {},
   "source": [
    "## 2. 周辺分布と条件付確率"
   ]
  },
  {
   "cell_type": "markdown",
   "id": "6d83d263-4ea5-4940-982d-cc1a37f57923",
   "metadata": {},
   "source": [
    "## 3. 多次元確率分布"
   ]
  }
 ],
 "metadata": {
  "kernelspec": {
   "display_name": "Python 3 (ipykernel)",
   "language": "python",
   "name": "python3"
  },
  "language_info": {
   "codemirror_mode": {
    "name": "ipython",
    "version": 3
   },
   "file_extension": ".py",
   "mimetype": "text/x-python",
   "name": "python",
   "nbconvert_exporter": "python",
   "pygments_lexer": "ipython3",
   "version": "3.9.12"
  }
 },
 "nbformat": 4,
 "nbformat_minor": 5
}
