{
 "cells": [
  {
   "cell_type": "markdown",
   "id": "10153799-0193-42b8-8ab3-a08e3cde8fcb",
   "metadata": {},
   "source": [
    "# 微分積分学\n",
    "\n",
    "　アナリティクスを厳密に読み進めるために必要な微分積分学の知識を書き留める."
   ]
  }
 ],
 "metadata": {
  "kernelspec": {
   "display_name": "Python 3 (ipykernel)",
   "language": "python",
   "name": "python3"
  },
  "language_info": {
   "codemirror_mode": {
    "name": "ipython",
    "version": 3
   },
   "file_extension": ".py",
   "mimetype": "text/x-python",
   "name": "python",
   "nbconvert_exporter": "python",
   "pygments_lexer": "ipython3",
   "version": "3.9.12"
  }
 },
 "nbformat": 4,
 "nbformat_minor": 5
}
